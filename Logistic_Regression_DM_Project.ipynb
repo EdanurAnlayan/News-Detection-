{
 "cells": [
  {
   "cell_type": "code",
   "execution_count": 24,
   "metadata": {},
   "outputs": [],
   "source": [
    "import snscrape.modules.twitter as sns\n",
    "import pandas as pd\n",
    "import numpy as np\n",
    "from sklearn.model_selection import train_test_split,cross_val_score\n",
    "from sklearn import preprocessing\n",
    "from sklearn.feature_extraction.text import TfidfVectorizer\n",
    "from sklearn.linear_model import LogisticRegression\n",
    "from sklearn.metrics import precision_score, recall_score, fbeta_score, confusion_matrix"
   ]
  },
  {
   "cell_type": "code",
   "execution_count": null,
   "metadata": {},
   "outputs": [],
   "source": [
    "#belirlenen twitter haber sayfasından haber çekme işleminin gerçekleştirildiği fonksiyon :"
   ]
  },
  {
   "cell_type": "code",
   "execution_count": 25,
   "metadata": {},
   "outputs": [],
   "source": [
    "def getNews(username,c_of_news):\n",
    "    array_news = []\n",
    "    for num_of_tw,tweet in enumerate(sns.TwitterSearchScraper(\"from:@\"+username).get_items()):\n",
    "        if num_of_tw>c_of_news:\n",
    "            break\n",
    "        regex = tweet.content.find(\"http\")\n",
    "        array_news.append(tweet.content[:regex])\n",
    "    array_news = pd.DataFrame(array_news,columns=[\"news\"])\n",
    "    return array_news"
   ]
  },
  {
   "cell_type": "code",
   "execution_count": null,
   "metadata": {},
   "outputs": [],
   "source": [
    "#verilere preprocessing işlemi uygulanarak; metin ve sayı dışındaki karakterleri silip,harflerin tamamını küçülten fonksiyon."
   ]
  },
  {
   "cell_type": "code",
   "execution_count": 26,
   "metadata": {},
   "outputs": [],
   "source": [
    "def prep(array_news):\n",
    "    array_news[\"news\"] = array_news[\"news\"].apply(lambda x:\" \".join(x.lower() for x in x.split()))\n",
    "    array_news[\"news\"] = array_news[\"news\"].str.replace(\"[^\\w\\s]\",\"\")    \n",
    "    array_news[\"news\"] = array_news[\"news\"].str.replace(\"[\\d]\",\"\")\n",
    "    return array_news"
   ]
  },
  {
   "cell_type": "code",
   "execution_count": null,
   "metadata": {},
   "outputs": [],
   "source": [
    "#çekilen doğru ve yanlış haberler için, alt alta sıralanacak ve doğru haberler için 1 değeri, yanlış haberler için 0 değeri\n",
    "#yazacak fonksiyon."
   ]
  },
  {
   "cell_type": "code",
   "execution_count": 27,
   "metadata": {},
   "outputs": [],
   "source": [
    "def join_news(true_news,wrong_news):\n",
    "    true_news[\"value\"] = 1\n",
    "    wrong_news[\"value\"] = 0\n",
    "    news = pd.concat([true_news,wrong_news],axis=0,ignore_index=True)\n",
    "    return news"
   ]
  },
  {
   "cell_type": "code",
   "execution_count": null,
   "metadata": {},
   "outputs": [],
   "source": [
    "#verisetini logistic regression algoritmasına vererek öğreten ve gerçek ve tahmin değerlerini kullanarak istenilen değerleri\n",
    "#hesaplayan fonksiyon."
   ]
  },
  {
   "cell_type": "code",
   "execution_count": 28,
   "metadata": {},
   "outputs": [],
   "source": [
    "def logistic_regression(traininput_ofdata,trainoutput_ofdata,testinput_ofdata,testoutput_ofdata):\n",
    "    log_reg = LogisticRegression()\n",
    "    log_reg_mdl = log_reg.fit(traininput_ofdata,trainoutput_ofdata)\n",
    "    testdata_predict=log_reg_mdl.predict(testinput_ofdata)\n",
    "    con_m=confusion_matrix(testoutput_ofdata, testdata_predict)\n",
    "    pre_score=precision_score(testoutput_ofdata, testdata_predict)\n",
    "    rec_score=recall_score(testoutput_ofdata, testdata_predict)\n",
    "    f_score=fbeta_score(testoutput_ofdata, testdata_predict, beta=1)\n",
    "    accuracy = cross_val_score(log_reg_mdl,testinput_ofdata,testoutput_ofdata,cv=10).mean()\n",
    "    return accuracy,con_m,pre_score,rec_score,f_score,log_reg_mdl"
   ]
  },
  {
   "cell_type": "code",
   "execution_count": null,
   "metadata": {},
   "outputs": [],
   "source": [
    "#tf-idf yöntemiyle veriler sayısal değerlere çevrilir ve bundan bir vektör oluşturuluyor."
   ]
  },
  {
   "cell_type": "code",
   "execution_count": 29,
   "metadata": {},
   "outputs": [],
   "source": [
    "def tf_idf(traininput_ofdata,testinput_ofdata):\n",
    "    tf_idf_vectorizer = TfidfVectorizer()\n",
    "    tf_idf_vectorizer.fit(traininput_ofdata)\n",
    "    tf_idf_traininput = tf_idf_vectorizer.transform(traininput_ofdata)\n",
    "    tf_idf_testinput = tf_idf_vectorizer.transform(testinput_ofdata)\n",
    "    return tf_idf_traininput,tf_idf_testinput\n"
   ]
  },
  {
   "cell_type": "code",
   "execution_count": null,
   "metadata": {},
   "outputs": [],
   "source": [
    "#verinin çekilip, kendini tekrarlamaması için kaydedilip onun kullanılması için gerekli kodlar."
   ]
  },
  {
   "cell_type": "code",
   "execution_count": 30,
   "metadata": {},
   "outputs": [],
   "source": [
    "#array_news=getNews(\"trthaber\",1000)"
   ]
  },
  {
   "cell_type": "code",
   "execution_count": null,
   "metadata": {},
   "outputs": [],
   "source": [
    "#array_news_wrong=getNews(\"zaytung\",1000)"
   ]
  },
  {
   "cell_type": "code",
   "execution_count": null,
   "metadata": {},
   "outputs": [],
   "source": [
    "#array_news=prep(array_news)\n",
    "#array_news_wrong=prep(array_news_wrong)"
   ]
  },
  {
   "cell_type": "code",
   "execution_count": null,
   "metadata": {},
   "outputs": [],
   "source": [
    "#news=join_news(array_news,array_news_wrong)"
   ]
  },
  {
   "cell_type": "code",
   "execution_count": null,
   "metadata": {},
   "outputs": [],
   "source": [
    "#news.to_csv(\"haberler.csv\",encoding = \"utf-16\",index=False)"
   ]
  },
  {
   "cell_type": "code",
   "execution_count": 31,
   "metadata": {},
   "outputs": [],
   "source": [
    "news=pd.read_csv(\"haberler.csv\",encoding=\"utf-16\")"
   ]
  },
  {
   "cell_type": "code",
   "execution_count": 32,
   "metadata": {},
   "outputs": [
    {
     "data": {
      "text/html": [
       "<div>\n",
       "<style scoped>\n",
       "    .dataframe tbody tr th:only-of-type {\n",
       "        vertical-align: middle;\n",
       "    }\n",
       "\n",
       "    .dataframe tbody tr th {\n",
       "        vertical-align: top;\n",
       "    }\n",
       "\n",
       "    .dataframe thead th {\n",
       "        text-align: right;\n",
       "    }\n",
       "</style>\n",
       "<table border=\"1\" class=\"dataframe\">\n",
       "  <thead>\n",
       "    <tr style=\"text-align: right;\">\n",
       "      <th></th>\n",
       "      <th>news</th>\n",
       "      <th>value</th>\n",
       "    </tr>\n",
       "  </thead>\n",
       "  <tbody>\n",
       "    <tr>\n",
       "      <th>0</th>\n",
       "      <td>dünya genelinde koronavirüs tespit edilen kişi...</td>\n",
       "      <td>1</td>\n",
       "    </tr>\n",
       "    <tr>\n",
       "      <th>1</th>\n",
       "      <td>ton demiri at arabalarına yükleyerek çaldılar...</td>\n",
       "      <td>1</td>\n",
       "    </tr>\n",
       "    <tr>\n",
       "      <th>2</th>\n",
       "      <td>türkçenin derinliklerine dalınca gözlerime on ...</td>\n",
       "      <td>1</td>\n",
       "    </tr>\n",
       "    <tr>\n",
       "      <th>3</th>\n",
       "      <td>ak partide yılın ilk myk toplantısında gündem ...</td>\n",
       "      <td>1</td>\n",
       "    </tr>\n",
       "    <tr>\n",
       "      <th>4</th>\n",
       "      <td>gözler  yılının aralık ayı enflasyon oranında ...</td>\n",
       "      <td>1</td>\n",
       "    </tr>\n",
       "  </tbody>\n",
       "</table>\n",
       "</div>"
      ],
      "text/plain": [
       "                                                news  value\n",
       "0  dünya genelinde koronavirüs tespit edilen kişi...      1\n",
       "1   ton demiri at arabalarına yükleyerek çaldılar...      1\n",
       "2  türkçenin derinliklerine dalınca gözlerime on ...      1\n",
       "3  ak partide yılın ilk myk toplantısında gündem ...      1\n",
       "4  gözler  yılının aralık ayı enflasyon oranında ...      1"
      ]
     },
     "execution_count": 32,
     "metadata": {},
     "output_type": "execute_result"
    }
   ],
   "source": [
    "news.head()"
   ]
  },
  {
   "cell_type": "code",
   "execution_count": 33,
   "metadata": {
    "scrolled": true
   },
   "outputs": [
    {
     "data": {
      "text/html": [
       "<div>\n",
       "<style scoped>\n",
       "    .dataframe tbody tr th:only-of-type {\n",
       "        vertical-align: middle;\n",
       "    }\n",
       "\n",
       "    .dataframe tbody tr th {\n",
       "        vertical-align: top;\n",
       "    }\n",
       "\n",
       "    .dataframe thead th {\n",
       "        text-align: right;\n",
       "    }\n",
       "</style>\n",
       "<table border=\"1\" class=\"dataframe\">\n",
       "  <thead>\n",
       "    <tr style=\"text-align: right;\">\n",
       "      <th></th>\n",
       "      <th>news</th>\n",
       "      <th>value</th>\n",
       "    </tr>\n",
       "  </thead>\n",
       "  <tbody>\n",
       "    <tr>\n",
       "      <th>1997</th>\n",
       "      <td>yargıda önemli reform tutukluluk kararı çıkmas...</td>\n",
       "      <td>0</td>\n",
       "    </tr>\n",
       "    <tr>\n",
       "      <th>1998</th>\n",
       "      <td>fotohaber  türkiye merakla o soruşturmanın son...</td>\n",
       "      <td>0</td>\n",
       "    </tr>\n",
       "    <tr>\n",
       "      <th>1999</th>\n",
       "      <td>videohaber  seydioğlu baklavaları tam diğer ba...</td>\n",
       "      <td>0</td>\n",
       "    </tr>\n",
       "    <tr>\n",
       "      <th>2000</th>\n",
       "      <td>görevden alınan merkez bankası başkanı murat ç...</td>\n",
       "      <td>0</td>\n",
       "    </tr>\n",
       "    <tr>\n",
       "      <th>2001</th>\n",
       "      <td>canon d için en iyi monteyi yapacak photoshop ...</td>\n",
       "      <td>0</td>\n",
       "    </tr>\n",
       "  </tbody>\n",
       "</table>\n",
       "</div>"
      ],
      "text/plain": [
       "                                                   news  value\n",
       "1997  yargıda önemli reform tutukluluk kararı çıkmas...      0\n",
       "1998  fotohaber  türkiye merakla o soruşturmanın son...      0\n",
       "1999  videohaber  seydioğlu baklavaları tam diğer ba...      0\n",
       "2000  görevden alınan merkez bankası başkanı murat ç...      0\n",
       "2001  canon d için en iyi monteyi yapacak photoshop ...      0"
      ]
     },
     "execution_count": 33,
     "metadata": {},
     "output_type": "execute_result"
    }
   ],
   "source": [
    "news.tail()"
   ]
  },
  {
   "cell_type": "code",
   "execution_count": null,
   "metadata": {},
   "outputs": [],
   "source": [
    "#veriler train ve test olarak ayrılır. Train:%70,Test=%30"
   ]
  },
  {
   "cell_type": "code",
   "execution_count": 34,
   "metadata": {},
   "outputs": [],
   "source": [
    "traininput_ofdata,testinput_ofdata,trainoutput_ofdata,testoutput_ofdata=train_test_split(news[\"news\"],news[\"value\"],test_size=0.3)"
   ]
  },
  {
   "cell_type": "code",
   "execution_count": null,
   "metadata": {},
   "outputs": [],
   "source": [
    "#sayısal değerleri katagorik değerlere çeviren kod."
   ]
  },
  {
   "cell_type": "code",
   "execution_count": 35,
   "metadata": {},
   "outputs": [],
   "source": [
    "encoder = preprocessing.LabelEncoder()\n",
    "trainoutput_ofdata_2 = encoder.fit_transform(trainoutput_ofdata)\n",
    "testoutput_ofdata_2 = encoder.fit_transform(testoutput_ofdata)"
   ]
  },
  {
   "cell_type": "code",
   "execution_count": null,
   "metadata": {},
   "outputs": [],
   "source": [
    "#tf-idf fonksiyonu ile vektör oluşturuldu."
   ]
  },
  {
   "cell_type": "code",
   "execution_count": 36,
   "metadata": {},
   "outputs": [],
   "source": [
    "tf_idf_traininput,tf_idf_testinput = tf_idf(traininput_ofdata,testinput_ofdata)"
   ]
  },
  {
   "cell_type": "code",
   "execution_count": 37,
   "metadata": {},
   "outputs": [
    {
     "data": {
      "text/plain": [
       "array([[0., 0., 0., ..., 0., 0., 0.],\n",
       "       [0., 0., 0., ..., 0., 0., 0.],\n",
       "       [0., 0., 0., ..., 0., 0., 0.],\n",
       "       ...,\n",
       "       [0., 0., 0., ..., 0., 0., 0.],\n",
       "       [0., 0., 0., ..., 0., 0., 0.],\n",
       "       [0., 0., 0., ..., 0., 0., 0.]])"
      ]
     },
     "execution_count": 37,
     "metadata": {},
     "output_type": "execute_result"
    }
   ],
   "source": [
    "tf_idf_traininput.toarray()"
   ]
  },
  {
   "cell_type": "code",
   "execution_count": 38,
   "metadata": {
    "scrolled": true
   },
   "outputs": [
    {
     "data": {
      "text/plain": [
       "array([[0., 0., 0., ..., 0., 0., 0.],\n",
       "       [0., 0., 0., ..., 0., 0., 0.],\n",
       "       [0., 0., 0., ..., 0., 0., 0.],\n",
       "       ...,\n",
       "       [0., 0., 0., ..., 0., 0., 0.],\n",
       "       [0., 0., 0., ..., 0., 0., 0.],\n",
       "       [0., 0., 0., ..., 0., 0., 0.]])"
      ]
     },
     "execution_count": 38,
     "metadata": {},
     "output_type": "execute_result"
    }
   ],
   "source": [
    "tf_idf_testinput.toarray()"
   ]
  },
  {
   "cell_type": "code",
   "execution_count": null,
   "metadata": {},
   "outputs": [],
   "source": [
    "#logistic regression fonksiyonu ile istenilen değerler elde edildi."
   ]
  },
  {
   "cell_type": "code",
   "execution_count": 39,
   "metadata": {},
   "outputs": [],
   "source": [
    "accuracy,con_m,pre_score,rec_score,f_score,log_reg_mdl=logistic_regression(tf_idf_traininput,trainoutput_ofdata_2,tf_idf_testinput,testoutput_ofdata_2)"
   ]
  },
  {
   "cell_type": "code",
   "execution_count": 40,
   "metadata": {},
   "outputs": [
    {
     "data": {
      "text/plain": [
       "0.883551912568306"
      ]
     },
     "execution_count": 40,
     "metadata": {},
     "output_type": "execute_result"
    }
   ],
   "source": [
    "accuracy"
   ]
  },
  {
   "cell_type": "code",
   "execution_count": 41,
   "metadata": {},
   "outputs": [
    {
     "data": {
      "text/plain": [
       "array([[291,  23],\n",
       "       [ 15, 272]], dtype=int64)"
      ]
     },
     "execution_count": 41,
     "metadata": {},
     "output_type": "execute_result"
    }
   ],
   "source": [
    "con_m"
   ]
  },
  {
   "cell_type": "code",
   "execution_count": 42,
   "metadata": {},
   "outputs": [
    {
     "data": {
      "text/plain": [
       "0.9220338983050848"
      ]
     },
     "execution_count": 42,
     "metadata": {},
     "output_type": "execute_result"
    }
   ],
   "source": [
    "pre_score"
   ]
  },
  {
   "cell_type": "code",
   "execution_count": 43,
   "metadata": {},
   "outputs": [
    {
     "data": {
      "text/plain": [
       "0.9477351916376306"
      ]
     },
     "execution_count": 43,
     "metadata": {},
     "output_type": "execute_result"
    }
   ],
   "source": [
    "rec_score"
   ]
  },
  {
   "cell_type": "code",
   "execution_count": 44,
   "metadata": {},
   "outputs": [
    {
     "data": {
      "text/plain": [
       "0.9347079037800688"
      ]
     },
     "execution_count": 44,
     "metadata": {},
     "output_type": "execute_result"
    }
   ],
   "source": [
    "f_score"
   ]
  },
  {
   "cell_type": "code",
   "execution_count": null,
   "metadata": {},
   "outputs": [],
   "source": [
    "#farklı haberler çekilerek makineye tahmin etmesi için verilir."
   ]
  },
  {
   "cell_type": "code",
   "execution_count": 45,
   "metadata": {},
   "outputs": [],
   "source": [
    "new_news=getNews(\"Haberturk\",10)"
   ]
  },
  {
   "cell_type": "code",
   "execution_count": 46,
   "metadata": {},
   "outputs": [
    {
     "data": {
      "text/html": [
       "<div>\n",
       "<style scoped>\n",
       "    .dataframe tbody tr th:only-of-type {\n",
       "        vertical-align: middle;\n",
       "    }\n",
       "\n",
       "    .dataframe tbody tr th {\n",
       "        vertical-align: top;\n",
       "    }\n",
       "\n",
       "    .dataframe thead th {\n",
       "        text-align: right;\n",
       "    }\n",
       "</style>\n",
       "<table border=\"1\" class=\"dataframe\">\n",
       "  <thead>\n",
       "    <tr style=\"text-align: right;\">\n",
       "      <th></th>\n",
       "      <th>news</th>\n",
       "    </tr>\n",
       "  </thead>\n",
       "  <tbody>\n",
       "    <tr>\n",
       "      <th>0</th>\n",
       "      <td>Kadın kılığına girip 5 milyonluk cipi çaldı!</td>\n",
       "    </tr>\n",
       "    <tr>\n",
       "      <th>1</th>\n",
       "      <td>Yargıtay, kocasına hakaret eden kadın ile doğu...</td>\n",
       "    </tr>\n",
       "    <tr>\n",
       "      <th>2</th>\n",
       "      <td>AK Parti'de Merkez Yürütme Kurulu (MYK) \"refor...</td>\n",
       "    </tr>\n",
       "    <tr>\n",
       "      <th>3</th>\n",
       "      <td>#SONDAKİKA | Gabar'da öldürülen teröristlerden...</td>\n",
       "    </tr>\n",
       "    <tr>\n",
       "      <th>4</th>\n",
       "      <td>Pınar'ın katiliyle ilgili flaş tespit!</td>\n",
       "    </tr>\n",
       "    <tr>\n",
       "      <th>5</th>\n",
       "      <td>Fransa'da çatışma: 16 yaşında bir genç hayatın...</td>\n",
       "    </tr>\n",
       "    <tr>\n",
       "      <th>6</th>\n",
       "      <td>THY kargo uçağı zorunlu iniş yaptı</td>\n",
       "    </tr>\n",
       "    <tr>\n",
       "      <th>7</th>\n",
       "      <td>Gönüllere dokundu! Sokakta ameliyat</td>\n",
       "    </tr>\n",
       "    <tr>\n",
       "      <th>8</th>\n",
       "      <td>Feci yangın! Yaşlı adam hayatını kaybetti</td>\n",
       "    </tr>\n",
       "    <tr>\n",
       "      <th>9</th>\n",
       "      <td>İş Sanat Masal Tiyatrosu'nda bugün 'Rapunzel' ...</td>\n",
       "    </tr>\n",
       "    <tr>\n",
       "      <th>10</th>\n",
       "      <td>Kesilen narenciye ağaçları başında gözyaşı dök...</td>\n",
       "    </tr>\n",
       "  </tbody>\n",
       "</table>\n",
       "</div>"
      ],
      "text/plain": [
       "                                                 news\n",
       "0       Kadın kılığına girip 5 milyonluk cipi çaldı! \n",
       "1   Yargıtay, kocasına hakaret eden kadın ile doğu...\n",
       "2   AK Parti'de Merkez Yürütme Kurulu (MYK) \"refor...\n",
       "3   #SONDAKİKA | Gabar'da öldürülen teröristlerden...\n",
       "4             Pınar'ın katiliyle ilgili flaş tespit! \n",
       "5   Fransa'da çatışma: 16 yaşında bir genç hayatın...\n",
       "6                 THY kargo uçağı zorunlu iniş yaptı \n",
       "7                Gönüllere dokundu! Sokakta ameliyat \n",
       "8          Feci yangın! Yaşlı adam hayatını kaybetti \n",
       "9   İş Sanat Masal Tiyatrosu'nda bugün 'Rapunzel' ...\n",
       "10  Kesilen narenciye ağaçları başında gözyaşı dök..."
      ]
     },
     "execution_count": 46,
     "metadata": {},
     "output_type": "execute_result"
    }
   ],
   "source": [
    "new_news"
   ]
  },
  {
   "cell_type": "code",
   "execution_count": null,
   "metadata": {},
   "outputs": [],
   "source": [
    "#çekilen haberler düzenlendi, makine öğrenmesi algoritmasına bu haberler verildi ve tahminleri gözlendi."
   ]
  },
  {
   "cell_type": "code",
   "execution_count": 47,
   "metadata": {},
   "outputs": [],
   "source": [
    "new_preprocessing=prep(new_news)"
   ]
  },
  {
   "cell_type": "code",
   "execution_count": 48,
   "metadata": {},
   "outputs": [],
   "source": [
    "new_preprocessing=pd.Series(new_preprocessing[\"news\"])"
   ]
  },
  {
   "cell_type": "code",
   "execution_count": 49,
   "metadata": {},
   "outputs": [],
   "source": [
    "vectorizer_2=TfidfVectorizer()\n",
    "vectorizer_2.fit(traininput_ofdata)\n",
    "new_news_vector = vectorizer_2.transform(new_preprocessing)"
   ]
  },
  {
   "cell_type": "code",
   "execution_count": 51,
   "metadata": {},
   "outputs": [],
   "source": [
    "new_value=log_reg_mdl.predict(new_news_vector)"
   ]
  },
  {
   "cell_type": "code",
   "execution_count": 52,
   "metadata": {},
   "outputs": [],
   "source": [
    "new_news[\"value\"]=new_value"
   ]
  },
  {
   "cell_type": "code",
   "execution_count": 53,
   "metadata": {},
   "outputs": [
    {
     "data": {
      "text/html": [
       "<div>\n",
       "<style scoped>\n",
       "    .dataframe tbody tr th:only-of-type {\n",
       "        vertical-align: middle;\n",
       "    }\n",
       "\n",
       "    .dataframe tbody tr th {\n",
       "        vertical-align: top;\n",
       "    }\n",
       "\n",
       "    .dataframe thead th {\n",
       "        text-align: right;\n",
       "    }\n",
       "</style>\n",
       "<table border=\"1\" class=\"dataframe\">\n",
       "  <thead>\n",
       "    <tr style=\"text-align: right;\">\n",
       "      <th></th>\n",
       "      <th>news</th>\n",
       "      <th>value</th>\n",
       "    </tr>\n",
       "  </thead>\n",
       "  <tbody>\n",
       "    <tr>\n",
       "      <th>0</th>\n",
       "      <td>kadın kılığına girip  milyonluk cipi çaldı</td>\n",
       "      <td>1</td>\n",
       "    </tr>\n",
       "    <tr>\n",
       "      <th>1</th>\n",
       "      <td>yargıtay kocasına hakaret eden kadın ile doğum...</td>\n",
       "      <td>1</td>\n",
       "    </tr>\n",
       "    <tr>\n",
       "      <th>2</th>\n",
       "      <td>ak partide merkez yürütme kurulu myk reform gü...</td>\n",
       "      <td>0</td>\n",
       "    </tr>\n",
       "    <tr>\n",
       "      <th>3</th>\n",
       "      <td>sondakika  gabarda öldürülen teröristlerden si...</td>\n",
       "      <td>1</td>\n",
       "    </tr>\n",
       "    <tr>\n",
       "      <th>4</th>\n",
       "      <td>pınarın katiliyle ilgili flaş tespit</td>\n",
       "      <td>1</td>\n",
       "    </tr>\n",
       "    <tr>\n",
       "      <th>5</th>\n",
       "      <td>fransada çatışma  yaşında bir genç hayatını ka...</td>\n",
       "      <td>1</td>\n",
       "    </tr>\n",
       "    <tr>\n",
       "      <th>6</th>\n",
       "      <td>thy kargo uçağı zorunlu iniş yaptı</td>\n",
       "      <td>1</td>\n",
       "    </tr>\n",
       "    <tr>\n",
       "      <th>7</th>\n",
       "      <td>gönüllere dokundu sokakta ameliyat</td>\n",
       "      <td>1</td>\n",
       "    </tr>\n",
       "    <tr>\n",
       "      <th>8</th>\n",
       "      <td>feci yangın yaşlı adam hayatını kaybetti</td>\n",
       "      <td>1</td>\n",
       "    </tr>\n",
       "    <tr>\n",
       "      <th>9</th>\n",
       "      <td>iş sanat masal tiyatrosunda bugün rapunzel var...</td>\n",
       "      <td>1</td>\n",
       "    </tr>\n",
       "    <tr>\n",
       "      <th>10</th>\n",
       "      <td>kesilen narenciye ağaçları başında gözyaşı dök...</td>\n",
       "      <td>1</td>\n",
       "    </tr>\n",
       "  </tbody>\n",
       "</table>\n",
       "</div>"
      ],
      "text/plain": [
       "                                                 news  value\n",
       "0          kadın kılığına girip  milyonluk cipi çaldı      1\n",
       "1   yargıtay kocasına hakaret eden kadın ile doğum...      1\n",
       "2   ak partide merkez yürütme kurulu myk reform gü...      0\n",
       "3   sondakika  gabarda öldürülen teröristlerden si...      1\n",
       "4                pınarın katiliyle ilgili flaş tespit      1\n",
       "5   fransada çatışma  yaşında bir genç hayatını ka...      1\n",
       "6                  thy kargo uçağı zorunlu iniş yaptı      1\n",
       "7                  gönüllere dokundu sokakta ameliyat      1\n",
       "8            feci yangın yaşlı adam hayatını kaybetti      1\n",
       "9   iş sanat masal tiyatrosunda bugün rapunzel var...      1\n",
       "10  kesilen narenciye ağaçları başında gözyaşı dök...      1"
      ]
     },
     "execution_count": 53,
     "metadata": {},
     "output_type": "execute_result"
    }
   ],
   "source": [
    "new_news"
   ]
  }
 ],
 "metadata": {
  "kernelspec": {
   "display_name": "Python 3",
   "language": "python",
   "name": "python3"
  },
  "language_info": {
   "codemirror_mode": {
    "name": "ipython",
    "version": 3
   },
   "file_extension": ".py",
   "mimetype": "text/x-python",
   "name": "python",
   "nbconvert_exporter": "python",
   "pygments_lexer": "ipython3",
   "version": "3.8.3"
  }
 },
 "nbformat": 4,
 "nbformat_minor": 4
}
